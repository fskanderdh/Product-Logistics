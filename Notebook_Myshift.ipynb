{
  "nbformat": 4,
  "nbformat_minor": 0,
  "metadata": {
    "colab": {
      "provenance": [],
      "authorship_tag": "ABX9TyPNbCFrMgBJRwFCQuAfLm1X",
      "include_colab_link": true
    },
    "kernelspec": {
      "name": "python3",
      "display_name": "Python 3"
    },
    "language_info": {
      "name": "python"
    }
  },
  "cells": [
    {
      "cell_type": "markdown",
      "metadata": {
        "id": "view-in-github",
        "colab_type": "text"
      },
      "source": [
        "<a href=\"https://colab.research.google.com/github/fskanderdh/Product-Logistics/blob/main/Notebook_Myshift.ipynb\" target=\"_parent\"><img src=\"https://colab.research.google.com/assets/colab-badge.svg\" alt=\"Open In Colab\"/></a>"
      ]
    },
    {
      "cell_type": "code",
      "execution_count": 4,
      "metadata": {
        "id": "tlL0s-AqLJYT",
        "colab": {
          "base_uri": "https://localhost:8080/"
        },
        "outputId": "479c3640-0b13-4b7b-dbaa-196204a0d16f"
      },
      "outputs": [
        {
          "output_type": "stream",
          "name": "stdout",
          "text": [
            "The google.cloud.bigquery extension is already loaded. To reload it, use:\n",
            "  %reload_ext google.cloud.bigquery\n"
          ]
        }
      ],
      "source": [
        "from google.colab import auth\n",
        "auth.authenticate_user()\n",
        "from google.cloud import bigquery\n",
        "from google.cloud.bigquery import magics\n",
        "%load_ext google.cloud.bigquery"
      ]
    },
    {
      "cell_type": "code",
      "source": [
        "client = bigquery.Client(project='logistics-rider-staging')\n",
        "project_id = 'logistics-rider-staging'\n",
        "magics.context.project = 'logistics-rider-staging'"
      ],
      "metadata": {
        "id": "VrLORT-aLQRW"
      },
      "execution_count": 5,
      "outputs": []
    },
    {
      "cell_type": "code",
      "source": [
        "df = client.query('''\n",
        "    SELECT *\n",
        "    FROM\n",
        "        fulfillment-dwh-production.cl.rider_payments\n",
        "    WHERE rider_id=2225924\n",
        "    LIMIT 10\n",
        "\n",
        "''').to_dataframe()\n",
        "\n",
        "# Display the resulting DataFrame\n",
        "print(df)\n"
      ],
      "metadata": {
        "colab": {
          "base_uri": "https://localhost:8080/"
        },
        "id": "me1HWQ67LR1g",
        "outputId": "38f1526b-4564-4a5e-c148-e511dbd8db77"
      },
      "execution_count": null,
      "outputs": [
        {
          "output_type": "stream",
          "name": "stdout",
          "text": [
            "  country_code region created_date  rider_id  \\\n",
            "0          de2     eu   2024-09-10   2225924   \n",
            "\n",
            "                                     rider_name       timezone exchange_rate  \\\n",
            "0  sXvHTI6QTaSrt1GYz3UkJHPxl2b48nitG4R0Eol8Sjg=  Europe/Berlin   1.000000000   \n",
            "\n",
            "  total_date_payment_eur total_date_payment  \\\n",
            "0           14.030000000       14.030000000   \n",
            "\n",
            "                                     payment_details  \n",
            "0  {'basic': [{'payment_id': 319792, 'payment_rul...  \n"
          ]
        }
      ]
    },
    {
      "cell_type": "code",
      "source": [
        "df = client.query('''SELECT column_name, data_type\n",
        "FROM `fulfillment-dwh-production.cl.INFORMATION_SCHEMA.COLUMNS`\n",
        "WHERE table_name = 'rider_payments'\n",
        "''').to_dataframe()\n",
        "\n",
        "# Display the resulting DataFrame\n",
        "print(df)"
      ],
      "metadata": {
        "colab": {
          "base_uri": "https://localhost:8080/"
        },
        "id": "nGWF5JSAgEcH",
        "outputId": "b4a81247-21dc-4e12-f42a-1b613bb62af6"
      },
      "execution_count": 8,
      "outputs": [
        {
          "output_type": "stream",
          "name": "stdout",
          "text": [
            "              column_name                                          data_type\n",
            "0            country_code                                             STRING\n",
            "1                  region                                             STRING\n",
            "2            created_date                                               DATE\n",
            "3                rider_id                                              INT64\n",
            "4              rider_name                                             STRING\n",
            "5                timezone                                             STRING\n",
            "6           exchange_rate                                            NUMERIC\n",
            "7  total_date_payment_eur                                            NUMERIC\n",
            "8      total_date_payment                                            NUMERIC\n",
            "9         payment_details  STRUCT<basic ARRAY<STRUCT<payment_id INT64, pa...\n"
          ]
        }
      ]
    }
  ]
}