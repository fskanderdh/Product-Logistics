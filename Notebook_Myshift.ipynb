{
  "nbformat": 4,
  "nbformat_minor": 0,
  "metadata": {
    "colab": {
      "provenance": []
    },
    "kernelspec": {
      "name": "python3",
      "display_name": "Python 3"
    },
    "language_info": {
      "name": "python"
    }
  },
  "cells": [
    {
      "cell_type": "code",
      "execution_count": null,
      "metadata": {
        "id": "tlL0s-AqLJYT"
      },
      "outputs": [],
      "source": [
        "from google.colab import auth\n",
        "auth.authenticate_user()\n",
        "from google.cloud import bigquery\n",
        "from google.cloud.bigquery import magics\n",
        "%load_ext google.cloud.bigquery"
      ]
    },
    {
      "cell_type": "code",
      "source": [
        "client = bigquery.Client(project='logistics-rider-staging')\n",
        "project_id = 'logistics-rider-staging'\n",
        "magics.context.project = 'logistics-rider-staging'"
      ],
      "metadata": {
        "id": "VrLORT-aLQRW"
      },
      "execution_count": null,
      "outputs": []
    },
    {
      "cell_type": "code",
      "source": [
        "df = client.query('''\n",
        "    SELECT *\n",
        "    FROM\n",
        "        fulfillment-dwh-production.cl.rider_payments\n",
        "    WHERE rider_id=2225924\n",
        "    LIMIT 10\n",
        "\n",
        "''').to_dataframe()\n",
        "\n",
        "# Display the resulting DataFrame\n",
        "print(df)\n"
      ],
      "metadata": {
        "colab": {
          "base_uri": "https://localhost:8080/"
        },
        "id": "me1HWQ67LR1g",
        "outputId": "38f1526b-4564-4a5e-c148-e511dbd8db77"
      },
      "execution_count": null,
      "outputs": [
        {
          "output_type": "stream",
          "name": "stdout",
          "text": [
            "  country_code region created_date  rider_id  \\\n",
            "0          de2     eu   2024-09-10   2225924   \n",
            "\n",
            "                                     rider_name       timezone exchange_rate  \\\n",
            "0  sXvHTI6QTaSrt1GYz3UkJHPxl2b48nitG4R0Eol8Sjg=  Europe/Berlin   1.000000000   \n",
            "\n",
            "  total_date_payment_eur total_date_payment  \\\n",
            "0           14.030000000       14.030000000   \n",
            "\n",
            "                                     payment_details  \n",
            "0  {'basic': [{'payment_id': 319792, 'payment_rul...  \n"
          ]
        }
      ]
    },
    {
      "cell_type": "code",
      "source": [],
      "metadata": {
        "id": "IbzzJxZjMB0A"
      },
      "execution_count": null,
      "outputs": []
    }
  ]
}